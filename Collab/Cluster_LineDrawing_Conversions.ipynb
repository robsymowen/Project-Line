{
  "nbformat": 4,
  "nbformat_minor": 0,
  "metadata": {
    "colab": {
      "provenance": [],
      "gpuType": "T4",
      "collapsed_sections": [
        "3iYq1vu5RO52",
        "x6h2ZLl8UNQQ",
        "uJTSk8Qgmccg"
      ],
      "include_colab_link": true
    },
    "kernelspec": {
      "name": "python3",
      "display_name": "Python 3"
    },
    "language_info": {
      "name": "python"
    },
    "accelerator": "GPU"
  },
  "cells": [
    {
      "cell_type": "markdown",
      "metadata": {
        "id": "view-in-github",
        "colab_type": "text"
      },
      "source": [
        "<a href=\"https://colab.research.google.com/github/robsymowen/Project-Line/blob/main/Cluster_LineDrawing_Conversions.ipynb\" target=\"_parent\"><img src=\"https://colab.research.google.com/assets/colab-badge.svg\" alt=\"Open In Colab\"/></a>"
      ]
    },
    {
      "cell_type": "code",
      "source": [
        "# Input Directory\n",
        "IMAGENET_ROOT_DIR = \"/content/drive/MyDrive/Classes/Third/PSY2356R/ThomasGarity/LineDrawing/datasets/imagenette2-320\"\n",
        "\n",
        "# Output Directory\n",
        "OUTPUT_DIR = '/content/drive/MyDrive/Classes/Third/PSY2356R/ThomasGarity/LineDrawing'"
      ],
      "metadata": {
        "id": "mGx4UGDt_2-U"
      },
      "execution_count": null,
      "outputs": []
    },
    {
      "cell_type": "markdown",
      "source": [
        "# **Load Dataset**\n",
        "- Director to dataset is stored under 'IMAGENET_ROOT_DIR'"
      ],
      "metadata": {
        "id": "3iYq1vu5RO52"
      }
    },
    {
      "cell_type": "code",
      "source": [
        "from glob import glob\n",
        "import os\n",
        "\n",
        "!ls $IMAGENET_ROOT_DIR"
      ],
      "metadata": {
        "id": "oyFG0ZWvSjpd",
        "colab": {
          "base_uri": "https://localhost:8080/"
        },
        "outputId": "71c0b131-ecdb-4595-d048-ade20dba62c1"
      },
      "execution_count": 2,
      "outputs": [
        {
          "output_type": "stream",
          "name": "stdout",
          "text": [
            "drive  sample_data\n"
          ]
        }
      ]
    },
    {
      "cell_type": "markdown",
      "source": [
        "# **Set up Line Drawing Library**\n",
        "\n",
        "The biggest development for me here was parsing through the test.py file to edit the data directory being used and the number of files we would iterate through.\n",
        "- The edited area of the test.py file is labeled\n",
        "- The files are then copied over to the google drive."
      ],
      "metadata": {
        "id": "x6h2ZLl8UNQQ"
      }
    },
    {
      "cell_type": "code",
      "source": [
        "# Clone repositry of line drawing models.\n",
        "!git clone https://github.com/carolineec/informative-drawings.git"
      ],
      "metadata": {
        "colab": {
          "base_uri": "https://localhost:8080/"
        },
        "id": "VoryIKCCTQHP",
        "outputId": "2aa220b4-f1cc-4c2c-aa0a-095b6be64e10"
      },
      "execution_count": 3,
      "outputs": [
        {
          "output_type": "stream",
          "name": "stdout",
          "text": [
            "Cloning into 'informative-drawings'...\n",
            "remote: Enumerating objects: 101, done.\u001b[K\n",
            "remote: Counting objects: 100% (28/28), done.\u001b[K\n",
            "remote: Compressing objects: 100% (17/17), done.\u001b[K\n",
            "remote: Total 101 (delta 21), reused 12 (delta 11), pack-reused 73\u001b[K\n",
            "Receiving objects: 100% (101/101), 3.86 MiB | 25.64 MiB/s, done.\n",
            "Resolving deltas: 100% (39/39), done.\n"
          ]
        }
      ]
    },
    {
      "cell_type": "code",
      "source": [
        "# URL to model download.\n",
        "checkpoint_url = 'https://s3.us-east-1.wasabisys.com/visionlab-projects/transfer/informative-drawings/model.zip'"
      ],
      "metadata": {
        "id": "0jWwYtU5UqrX"
      },
      "execution_count": 4,
      "outputs": []
    },
    {
      "cell_type": "code",
      "source": [
        "# Get model from URL, move into correct direcotry, remove the directory\n",
        "!mkdir -p informative-drawings/checkpoints\n",
        "!wget -c {checkpoint_url} -O informative-drawings/checkpoints/model.zip\n",
        "!unzip /content/informative-drawings/checkpoints/model.zip -d /content/informative-drawings/checkpoints\n",
        "!mv /content/informative-drawings/checkpoints/model/* /content/informative-drawings/checkpoints\n",
        "!rmdir /content/informative-drawings/checkpoints/model"
      ],
      "metadata": {
        "colab": {
          "base_uri": "https://localhost:8080/"
        },
        "id": "JCyjC3VzUsdO",
        "outputId": "011707c3-83fe-4c11-ac38-77573ca68a8b"
      },
      "execution_count": 5,
      "outputs": [
        {
          "output_type": "stream",
          "name": "stdout",
          "text": [
            "--2023-11-30 20:31:47--  https://s3.us-east-1.wasabisys.com/visionlab-projects/transfer/informative-drawings/model.zip\n",
            "Resolving s3.us-east-1.wasabisys.com (s3.us-east-1.wasabisys.com)... 38.27.106.103, 38.27.106.30, 38.27.106.22, ...\n",
            "Connecting to s3.us-east-1.wasabisys.com (s3.us-east-1.wasabisys.com)|38.27.106.103|:443... connected.\n",
            "HTTP request sent, awaiting response... 200 OK\n",
            "Length: 47725553 (46M) [application/zip]\n",
            "Saving to: ‘informative-drawings/checkpoints/model.zip’\n",
            "\n",
            "informative-drawing 100%[===================>]  45.51M  37.3MB/s    in 1.2s    \n",
            "\n",
            "2023-11-30 20:31:49 (37.3 MB/s) - ‘informative-drawings/checkpoints/model.zip’ saved [47725553/47725553]\n",
            "\n",
            "Archive:  /content/informative-drawings/checkpoints/model.zip\n",
            "   creating: /content/informative-drawings/checkpoints/model/\n",
            "   creating: /content/informative-drawings/checkpoints/model/contour_style/\n",
            "  inflating: /content/informative-drawings/checkpoints/model/contour_style/netG_A_latest.pth  \n",
            "   creating: /content/informative-drawings/checkpoints/model/opensketch_style/\n",
            "  inflating: /content/informative-drawings/checkpoints/model/opensketch_style/.DS_Store  \n",
            "  inflating: /content/informative-drawings/checkpoints/model/opensketch_style/netG_A_latest.pth  \n",
            "   creating: /content/informative-drawings/checkpoints/model/anime_style/\n",
            "  inflating: /content/informative-drawings/checkpoints/model/anime_style/netG_A_latest.pth  \n"
          ]
        }
      ]
    },
    {
      "cell_type": "code",
      "source": [
        "print(\"Testing that we can convert to line drawings\")\n",
        "!cd informative-drawings && python test.py --name anime_style --dataroot examples/test"
      ],
      "metadata": {
        "colab": {
          "base_uri": "https://localhost:8080/"
        },
        "id": "c5zxozwCVpjE",
        "outputId": "44ed1582-0f9e-49c6-fdad-453b60c6fb47"
      },
      "execution_count": 6,
      "outputs": [
        {
          "output_type": "stream",
          "name": "stdout",
          "text": [
            "Testing that we can convert to line drawings\n",
            "Namespace(name='anime_style', checkpoints_dir='checkpoints', results_dir='results', geom_name='feats2Geom', batchSize=1, dataroot='examples/test', depthroot='', input_nc=3, output_nc=1, geom_nc=3, every_feat=1, num_classes=55, midas=0, ngf=64, n_blocks=3, size=256, cuda=True, n_cpu=8, which_epoch='latest', aspect_ratio=1.0, mode='test', load_size=256, crop_size=256, max_dataset_size=inf, preprocess='resize_and_crop', no_flip=False, norm='instance', predict_depth=0, save_input=0, reconstruct=0, how_many=100)\n",
            "loaded checkpoints/anime_style/netG_A_latest.pth\n",
            "Generated images 0002 of 0100\n"
          ]
        }
      ]
    },
    {
      "cell_type": "markdown",
      "source": [
        "# **Setting up Arguments for Test.py**\n",
        "\n",
        "This involves iterating through each folder in the dataset, and creating a matching folder of the converted line drawings in the results folder."
      ],
      "metadata": {
        "id": "uJTSk8Qgmccg"
      }
    },
    {
      "cell_type": "code",
      "source": [
        "# Check if a results directory exists. If not, create one.\n",
        "results_dir_name = \"AugmentedDataset\"\n",
        "!cd $OUTPUT_DIR && mkdir -p $results_dir_name\n",
        "\n",
        "results_root = os.path.join(OUTPUT_DIR, results_dir_name)\n",
        "\n",
        "# Navigate to results_root and show what exists there\n",
        "!cd $results_root && ls"
      ],
      "metadata": {
        "id": "vMFxN6RQmyVk",
        "colab": {
          "base_uri": "https://localhost:8080/"
        },
        "outputId": "2ba2d2d9-707e-4d74-d8d7-c991084ea569"
      },
      "execution_count": 8,
      "outputs": [
        {
          "output_type": "stream",
          "name": "stdout",
          "text": [
            "train  val\n"
          ]
        }
      ]
    },
    {
      "cell_type": "code",
      "source": [
        "def convert_images(data_dir, results_root, trainval):\n",
        "\n",
        "    # Create data directory to pull from (either train or val datset)\n",
        "    data = os.path.join(data_dir, trainval)\n",
        "    !ls $data\n",
        "\n",
        "\n",
        "    # Create list of folders in dataset to iterate through.\n",
        "    folders = os.listdir(data)\n",
        "    print('Folders to iterate through:', folders)\n",
        "\n",
        "    # Iterate through folders, running test.py on each.\n",
        "    for folder in folders:\n",
        "        print('\\nConverting images in folder:', folder)\n",
        "        dataroot = os.path.join(data, folder)\n",
        "        files = glob(os.path.join(dataroot, \"*.JPEG\"))\n",
        "\n",
        "        results_root = os.path.join(root_dir, 'AugmentedDataset_2', trainval)\n",
        "\n",
        "        # Create results directory with same name\n",
        "        !cd $results_root && mkdir -p $folder\n",
        "\n",
        "        # Set results_dir to the folder that matches the subfolder from the dataset\n",
        "        results_dir = os.path.join(results_root, folder)\n",
        "\n",
        "        # Set number of files to convert to line drawings\n",
        "        how_many = len(files)-1\n",
        "\n",
        "        # Run test.py with these parameters\n",
        "        !cd informative-drawings && python test.py --name anime_style --dataroot $dataroot --results_dir $results_dir --how_many $how_many\n",
        "\n",
        "    return 0\n"
      ],
      "metadata": {
        "id": "fQlKyQWBpaFe"
      },
      "execution_count": 9,
      "outputs": []
    },
    {
      "cell_type": "code",
      "source": [
        "# Convert train dataset\n",
        "convert_images(IMAGENET_ROOT_DIR, results_root, 'train')"
      ],
      "metadata": {
        "colab": {
          "base_uri": "https://localhost:8080/"
        },
        "id": "A5wwvz557dbi",
        "outputId": "ae8579c8-45ab-462c-cfdb-1bbbfdbe8e81"
      },
      "execution_count": null,
      "outputs": [
        {
          "output_type": "stream",
          "name": "stdout",
          "text": [
            "n01440764  n02979186  n03028079  n03417042  n03445777\n",
            "n02102040  n03000684  n03394916  n03425413  n03888257\n",
            "Folders to iterate through: ['n03028079', 'n02102040', 'n02979186', 'n03888257', 'n03445777', 'n03394916', 'n03425413', 'n03417042', 'n03000684', 'n01440764']\n",
            "\n",
            "Converting images in folder: n03028079\n",
            "Namespace(name='anime_style', checkpoints_dir='checkpoints', results_dir='/content/drive/MyDrive/Classes/Third/PSY2356R/ThomasGarity/LineDrawing/AugmentedDataset/train/n03028079', geom_name='feats2Geom', batchSize=1, dataroot='/content/drive/MyDrive/Classes/Third/PSY2356R/ThomasGarity/LineDrawing/datasets/imagenette2-320/train/n03028079', depthroot='', input_nc=3, output_nc=1, geom_nc=3, every_feat=1, num_classes=55, midas=0, ngf=64, n_blocks=3, size=256, cuda=True, n_cpu=8, which_epoch='latest', aspect_ratio=1.0, mode='test', load_size=256, crop_size=256, max_dataset_size=inf, preprocess='resize_and_crop', no_flip=False, norm='instance', predict_depth=0, save_input=0, reconstruct=0, how_many=941)\n",
            "loaded checkpoints/anime_style/netG_A_latest.pth\n",
            "Generated images 0940 of 0941\n",
            "\n",
            "Converting images in folder: n02102040\n",
            "Namespace(name='anime_style', checkpoints_dir='checkpoints', results_dir='/content/drive/MyDrive/Classes/Third/PSY2356R/ThomasGarity/LineDrawing/AugmentedDataset/train/n02102040', geom_name='feats2Geom', batchSize=1, dataroot='/content/drive/MyDrive/Classes/Third/PSY2356R/ThomasGarity/LineDrawing/datasets/imagenette2-320/train/n02102040', depthroot='', input_nc=3, output_nc=1, geom_nc=3, every_feat=1, num_classes=55, midas=0, ngf=64, n_blocks=3, size=256, cuda=True, n_cpu=8, which_epoch='latest', aspect_ratio=1.0, mode='test', load_size=256, crop_size=256, max_dataset_size=inf, preprocess='resize_and_crop', no_flip=False, norm='instance', predict_depth=0, save_input=0, reconstruct=0, how_many=955)\n",
            "loaded checkpoints/anime_style/netG_A_latest.pth\n",
            "Generated images 0954 of 0955\n",
            "\n",
            "Converting images in folder: n02979186\n",
            "Namespace(name='anime_style', checkpoints_dir='checkpoints', results_dir='/content/drive/MyDrive/Classes/Third/PSY2356R/ThomasGarity/LineDrawing/AugmentedDataset/train/n02979186', geom_name='feats2Geom', batchSize=1, dataroot='/content/drive/MyDrive/Classes/Third/PSY2356R/ThomasGarity/LineDrawing/datasets/imagenette2-320/train/n02979186', depthroot='', input_nc=3, output_nc=1, geom_nc=3, every_feat=1, num_classes=55, midas=0, ngf=64, n_blocks=3, size=256, cuda=True, n_cpu=8, which_epoch='latest', aspect_ratio=1.0, mode='test', load_size=256, crop_size=256, max_dataset_size=inf, preprocess='resize_and_crop', no_flip=False, norm='instance', predict_depth=0, save_input=0, reconstruct=0, how_many=993)\n",
            "loaded checkpoints/anime_style/netG_A_latest.pth\n",
            "Generated images 0992 of 0993\n",
            "\n",
            "Converting images in folder: n03888257\n",
            "Namespace(name='anime_style', checkpoints_dir='checkpoints', results_dir='/content/drive/MyDrive/Classes/Third/PSY2356R/ThomasGarity/LineDrawing/AugmentedDataset/train/n03888257', geom_name='feats2Geom', batchSize=1, dataroot='/content/drive/MyDrive/Classes/Third/PSY2356R/ThomasGarity/LineDrawing/datasets/imagenette2-320/train/n03888257', depthroot='', input_nc=3, output_nc=1, geom_nc=3, every_feat=1, num_classes=55, midas=0, ngf=64, n_blocks=3, size=256, cuda=True, n_cpu=8, which_epoch='latest', aspect_ratio=1.0, mode='test', load_size=256, crop_size=256, max_dataset_size=inf, preprocess='resize_and_crop', no_flip=False, norm='instance', predict_depth=0, save_input=0, reconstruct=0, how_many=960)\n",
            "loaded checkpoints/anime_style/netG_A_latest.pth\n",
            "Generated images 0959 of 0960\n",
            "\n",
            "Converting images in folder: n03445777\n",
            "Namespace(name='anime_style', checkpoints_dir='checkpoints', results_dir='/content/drive/MyDrive/Classes/Third/PSY2356R/ThomasGarity/LineDrawing/AugmentedDataset/train/n03445777', geom_name='feats2Geom', batchSize=1, dataroot='/content/drive/MyDrive/Classes/Third/PSY2356R/ThomasGarity/LineDrawing/datasets/imagenette2-320/train/n03445777', depthroot='', input_nc=3, output_nc=1, geom_nc=3, every_feat=1, num_classes=55, midas=0, ngf=64, n_blocks=3, size=256, cuda=True, n_cpu=8, which_epoch='latest', aspect_ratio=1.0, mode='test', load_size=256, crop_size=256, max_dataset_size=inf, preprocess='resize_and_crop', no_flip=False, norm='instance', predict_depth=0, save_input=0, reconstruct=0, how_many=951)\n",
            "loaded checkpoints/anime_style/netG_A_latest.pth\n",
            "Generated images 0950 of 0951\n",
            "\n",
            "Converting images in folder: n03394916\n",
            "Namespace(name='anime_style', checkpoints_dir='checkpoints', results_dir='/content/drive/MyDrive/Classes/Third/PSY2356R/ThomasGarity/LineDrawing/AugmentedDataset/train/n03394916', geom_name='feats2Geom', batchSize=1, dataroot='/content/drive/MyDrive/Classes/Third/PSY2356R/ThomasGarity/LineDrawing/datasets/imagenette2-320/train/n03394916', depthroot='', input_nc=3, output_nc=1, geom_nc=3, every_feat=1, num_classes=55, midas=0, ngf=64, n_blocks=3, size=256, cuda=True, n_cpu=8, which_epoch='latest', aspect_ratio=1.0, mode='test', load_size=256, crop_size=256, max_dataset_size=inf, preprocess='resize_and_crop', no_flip=False, norm='instance', predict_depth=0, save_input=0, reconstruct=0, how_many=956)\n",
            "loaded checkpoints/anime_style/netG_A_latest.pth\n",
            "Generated images 0955 of 0956\n",
            "\n",
            "Converting images in folder: n03425413\n",
            "Namespace(name='anime_style', checkpoints_dir='checkpoints', results_dir='/content/drive/MyDrive/Classes/Third/PSY2356R/ThomasGarity/LineDrawing/AugmentedDataset/train/n03425413', geom_name='feats2Geom', batchSize=1, dataroot='/content/drive/MyDrive/Classes/Third/PSY2356R/ThomasGarity/LineDrawing/datasets/imagenette2-320/train/n03425413', depthroot='', input_nc=3, output_nc=1, geom_nc=3, every_feat=1, num_classes=55, midas=0, ngf=64, n_blocks=3, size=256, cuda=True, n_cpu=8, which_epoch='latest', aspect_ratio=1.0, mode='test', load_size=256, crop_size=256, max_dataset_size=inf, preprocess='resize_and_crop', no_flip=False, norm='instance', predict_depth=0, save_input=0, reconstruct=0, how_many=931)\n",
            "loaded checkpoints/anime_style/netG_A_latest.pth\n",
            "Generated images 0930 of 0931\n",
            "\n",
            "Converting images in folder: n03417042\n",
            "Namespace(name='anime_style', checkpoints_dir='checkpoints', results_dir='/content/drive/MyDrive/Classes/Third/PSY2356R/ThomasGarity/LineDrawing/AugmentedDataset/train/n03417042', geom_name='feats2Geom', batchSize=1, dataroot='/content/drive/MyDrive/Classes/Third/PSY2356R/ThomasGarity/LineDrawing/datasets/imagenette2-320/train/n03417042', depthroot='', input_nc=3, output_nc=1, geom_nc=3, every_feat=1, num_classes=55, midas=0, ngf=64, n_blocks=3, size=256, cuda=True, n_cpu=8, which_epoch='latest', aspect_ratio=1.0, mode='test', load_size=256, crop_size=256, max_dataset_size=inf, preprocess='resize_and_crop', no_flip=False, norm='instance', predict_depth=0, save_input=0, reconstruct=0, how_many=961)\n",
            "loaded checkpoints/anime_style/netG_A_latest.pth\n",
            "Generated images 0960 of 0961\n",
            "\n",
            "Converting images in folder: n03000684\n",
            "Namespace(name='anime_style', checkpoints_dir='checkpoints', results_dir='/content/drive/MyDrive/Classes/Third/PSY2356R/ThomasGarity/LineDrawing/AugmentedDataset/train/n03000684', geom_name='feats2Geom', batchSize=1, dataroot='/content/drive/MyDrive/Classes/Third/PSY2356R/ThomasGarity/LineDrawing/datasets/imagenette2-320/train/n03000684', depthroot='', input_nc=3, output_nc=1, geom_nc=3, every_feat=1, num_classes=55, midas=0, ngf=64, n_blocks=3, size=256, cuda=True, n_cpu=8, which_epoch='latest', aspect_ratio=1.0, mode='test', load_size=256, crop_size=256, max_dataset_size=inf, preprocess='resize_and_crop', no_flip=False, norm='instance', predict_depth=0, save_input=0, reconstruct=0, how_many=858)\n",
            "loaded checkpoints/anime_style/netG_A_latest.pth\n",
            "Generated images 0857 of 0858\n",
            "\n",
            "Converting images in folder: n01440764\n",
            "Namespace(name='anime_style', checkpoints_dir='checkpoints', results_dir='/content/drive/MyDrive/Classes/Third/PSY2356R/ThomasGarity/LineDrawing/AugmentedDataset/train/n01440764', geom_name='feats2Geom', batchSize=1, dataroot='/content/drive/MyDrive/Classes/Third/PSY2356R/ThomasGarity/LineDrawing/datasets/imagenette2-320/train/n01440764', depthroot='', input_nc=3, output_nc=1, geom_nc=3, every_feat=1, num_classes=55, midas=0, ngf=64, n_blocks=3, size=256, cuda=True, n_cpu=8, which_epoch='latest', aspect_ratio=1.0, mode='test', load_size=256, crop_size=256, max_dataset_size=inf, preprocess='resize_and_crop', no_flip=False, norm='instance', predict_depth=0, save_input=0, reconstruct=0, how_many=963)\n",
            "loaded checkpoints/anime_style/netG_A_latest.pth\n",
            "Generated images 0962 of 0963\n"
          ]
        },
        {
          "output_type": "execute_result",
          "data": {
            "text/plain": [
              "0"
            ]
          },
          "metadata": {},
          "execution_count": 13
        }
      ]
    },
    {
      "cell_type": "code",
      "source": [
        "# Convert Val dataset\n",
        "convert_images(IMAGENET_ROOT_DIR, results_root, 'val')"
      ],
      "metadata": {
        "colab": {
          "base_uri": "https://localhost:8080/"
        },
        "id": "S36aNIeJIAHb",
        "outputId": "5008521b-fdc5-4fe0-fa3f-4214d560e863"
      },
      "execution_count": null,
      "outputs": [
        {
          "output_type": "stream",
          "name": "stdout",
          "text": [
            "n01440764  n02979186  n03028079  n03417042  n03445777\n",
            "n02102040  n03000684  n03394916  n03425413  n03888257\n",
            "Folders to iterate through: ['n03417042', 'n03425413', 'n03888257', 'n03394916', 'n03000684', 'n01440764', 'n03445777', 'n02102040', 'n02979186', 'n03028079']\n",
            "\n",
            "Converting images in folder: n03417042\n",
            "/bin/bash: line 1: cd: /content/drive/MyDrive/Classes/Third/PSY2356R/ThomasGarity/LineDrawing/AugmentedDataset_2/val: No such file or directory\n",
            "Namespace(name='anime_style', checkpoints_dir='checkpoints', results_dir='/content/drive/MyDrive/Classes/Third/PSY2356R/ThomasGarity/LineDrawing/AugmentedDataset_2/val/n03417042', geom_name='feats2Geom', batchSize=1, dataroot='/content/drive/MyDrive/Classes/Third/PSY2356R/ThomasGarity/LineDrawing/datasets/imagenette2-320/val/n03417042', depthroot='', input_nc=3, output_nc=1, geom_nc=3, every_feat=1, num_classes=55, midas=0, ngf=64, n_blocks=3, size=256, cuda=True, n_cpu=8, which_epoch='latest', aspect_ratio=1.0, mode='test', load_size=256, crop_size=256, max_dataset_size=inf, preprocess='resize_and_crop', no_flip=False, norm='instance', predict_depth=0, save_input=0, reconstruct=0, how_many=389)\n",
            "loaded checkpoints/anime_style/netG_A_latest.pth\n",
            "Generated images 0388 of 0389\n",
            "\n",
            "Converting images in folder: n03425413\n",
            "Namespace(name='anime_style', checkpoints_dir='checkpoints', results_dir='/content/drive/MyDrive/Classes/Third/PSY2356R/ThomasGarity/LineDrawing/AugmentedDataset_2/val/n03425413', geom_name='feats2Geom', batchSize=1, dataroot='/content/drive/MyDrive/Classes/Third/PSY2356R/ThomasGarity/LineDrawing/datasets/imagenette2-320/val/n03425413', depthroot='', input_nc=3, output_nc=1, geom_nc=3, every_feat=1, num_classes=55, midas=0, ngf=64, n_blocks=3, size=256, cuda=True, n_cpu=8, which_epoch='latest', aspect_ratio=1.0, mode='test', load_size=256, crop_size=256, max_dataset_size=inf, preprocess='resize_and_crop', no_flip=False, norm='instance', predict_depth=0, save_input=0, reconstruct=0, how_many=419)\n",
            "loaded checkpoints/anime_style/netG_A_latest.pth\n",
            "Generated images 0418 of 0419\n",
            "\n",
            "Converting images in folder: n03888257\n",
            "Namespace(name='anime_style', checkpoints_dir='checkpoints', results_dir='/content/drive/MyDrive/Classes/Third/PSY2356R/ThomasGarity/LineDrawing/AugmentedDataset_2/val/n03888257', geom_name='feats2Geom', batchSize=1, dataroot='/content/drive/MyDrive/Classes/Third/PSY2356R/ThomasGarity/LineDrawing/datasets/imagenette2-320/val/n03888257', depthroot='', input_nc=3, output_nc=1, geom_nc=3, every_feat=1, num_classes=55, midas=0, ngf=64, n_blocks=3, size=256, cuda=True, n_cpu=8, which_epoch='latest', aspect_ratio=1.0, mode='test', load_size=256, crop_size=256, max_dataset_size=inf, preprocess='resize_and_crop', no_flip=False, norm='instance', predict_depth=0, save_input=0, reconstruct=0, how_many=390)\n",
            "loaded checkpoints/anime_style/netG_A_latest.pth\n",
            "Generated images 0389 of 0390\n",
            "\n",
            "Converting images in folder: n03394916\n",
            "Namespace(name='anime_style', checkpoints_dir='checkpoints', results_dir='/content/drive/MyDrive/Classes/Third/PSY2356R/ThomasGarity/LineDrawing/AugmentedDataset_2/val/n03394916', geom_name='feats2Geom', batchSize=1, dataroot='/content/drive/MyDrive/Classes/Third/PSY2356R/ThomasGarity/LineDrawing/datasets/imagenette2-320/val/n03394916', depthroot='', input_nc=3, output_nc=1, geom_nc=3, every_feat=1, num_classes=55, midas=0, ngf=64, n_blocks=3, size=256, cuda=True, n_cpu=8, which_epoch='latest', aspect_ratio=1.0, mode='test', load_size=256, crop_size=256, max_dataset_size=inf, preprocess='resize_and_crop', no_flip=False, norm='instance', predict_depth=0, save_input=0, reconstruct=0, how_many=394)\n",
            "loaded checkpoints/anime_style/netG_A_latest.pth\n",
            "Generated images 0393 of 0394\n",
            "\n",
            "Converting images in folder: n03000684\n",
            "Namespace(name='anime_style', checkpoints_dir='checkpoints', results_dir='/content/drive/MyDrive/Classes/Third/PSY2356R/ThomasGarity/LineDrawing/AugmentedDataset_2/val/n03000684', geom_name='feats2Geom', batchSize=1, dataroot='/content/drive/MyDrive/Classes/Third/PSY2356R/ThomasGarity/LineDrawing/datasets/imagenette2-320/val/n03000684', depthroot='', input_nc=3, output_nc=1, geom_nc=3, every_feat=1, num_classes=55, midas=0, ngf=64, n_blocks=3, size=256, cuda=True, n_cpu=8, which_epoch='latest', aspect_ratio=1.0, mode='test', load_size=256, crop_size=256, max_dataset_size=inf, preprocess='resize_and_crop', no_flip=False, norm='instance', predict_depth=0, save_input=0, reconstruct=0, how_many=386)\n",
            "loaded checkpoints/anime_style/netG_A_latest.pth\n",
            "Generated images 0385 of 0386\n",
            "\n",
            "Converting images in folder: n01440764\n",
            "Namespace(name='anime_style', checkpoints_dir='checkpoints', results_dir='/content/drive/MyDrive/Classes/Third/PSY2356R/ThomasGarity/LineDrawing/AugmentedDataset_2/val/n01440764', geom_name='feats2Geom', batchSize=1, dataroot='/content/drive/MyDrive/Classes/Third/PSY2356R/ThomasGarity/LineDrawing/datasets/imagenette2-320/val/n01440764', depthroot='', input_nc=3, output_nc=1, geom_nc=3, every_feat=1, num_classes=55, midas=0, ngf=64, n_blocks=3, size=256, cuda=True, n_cpu=8, which_epoch='latest', aspect_ratio=1.0, mode='test', load_size=256, crop_size=256, max_dataset_size=inf, preprocess='resize_and_crop', no_flip=False, norm='instance', predict_depth=0, save_input=0, reconstruct=0, how_many=387)\n",
            "loaded checkpoints/anime_style/netG_A_latest.pth\n",
            "Generated images 0386 of 0387\n",
            "\n",
            "Converting images in folder: n03445777\n",
            "Namespace(name='anime_style', checkpoints_dir='checkpoints', results_dir='/content/drive/MyDrive/Classes/Third/PSY2356R/ThomasGarity/LineDrawing/AugmentedDataset_2/val/n03445777', geom_name='feats2Geom', batchSize=1, dataroot='/content/drive/MyDrive/Classes/Third/PSY2356R/ThomasGarity/LineDrawing/datasets/imagenette2-320/val/n03445777', depthroot='', input_nc=3, output_nc=1, geom_nc=3, every_feat=1, num_classes=55, midas=0, ngf=64, n_blocks=3, size=256, cuda=True, n_cpu=8, which_epoch='latest', aspect_ratio=1.0, mode='test', load_size=256, crop_size=256, max_dataset_size=inf, preprocess='resize_and_crop', no_flip=False, norm='instance', predict_depth=0, save_input=0, reconstruct=0, how_many=399)\n",
            "loaded checkpoints/anime_style/netG_A_latest.pth\n",
            "Generated images 0398 of 0399\n",
            "\n",
            "Converting images in folder: n02102040\n",
            "Namespace(name='anime_style', checkpoints_dir='checkpoints', results_dir='/content/drive/MyDrive/Classes/Third/PSY2356R/ThomasGarity/LineDrawing/AugmentedDataset_2/val/n02102040', geom_name='feats2Geom', batchSize=1, dataroot='/content/drive/MyDrive/Classes/Third/PSY2356R/ThomasGarity/LineDrawing/datasets/imagenette2-320/val/n02102040', depthroot='', input_nc=3, output_nc=1, geom_nc=3, every_feat=1, num_classes=55, midas=0, ngf=64, n_blocks=3, size=256, cuda=True, n_cpu=8, which_epoch='latest', aspect_ratio=1.0, mode='test', load_size=256, crop_size=256, max_dataset_size=inf, preprocess='resize_and_crop', no_flip=False, norm='instance', predict_depth=0, save_input=0, reconstruct=0, how_many=395)\n",
            "loaded checkpoints/anime_style/netG_A_latest.pth\n",
            "Generated images 0394 of 0395\n",
            "\n",
            "Converting images in folder: n02979186\n",
            "Namespace(name='anime_style', checkpoints_dir='checkpoints', results_dir='/content/drive/MyDrive/Classes/Third/PSY2356R/ThomasGarity/LineDrawing/AugmentedDataset_2/val/n02979186', geom_name='feats2Geom', batchSize=1, dataroot='/content/drive/MyDrive/Classes/Third/PSY2356R/ThomasGarity/LineDrawing/datasets/imagenette2-320/val/n02979186', depthroot='', input_nc=3, output_nc=1, geom_nc=3, every_feat=1, num_classes=55, midas=0, ngf=64, n_blocks=3, size=256, cuda=True, n_cpu=8, which_epoch='latest', aspect_ratio=1.0, mode='test', load_size=256, crop_size=256, max_dataset_size=inf, preprocess='resize_and_crop', no_flip=False, norm='instance', predict_depth=0, save_input=0, reconstruct=0, how_many=357)\n",
            "loaded checkpoints/anime_style/netG_A_latest.pth\n",
            "Generated images 0356 of 0357\n",
            "\n",
            "Converting images in folder: n03028079\n",
            "Namespace(name='anime_style', checkpoints_dir='checkpoints', results_dir='/content/drive/MyDrive/Classes/Third/PSY2356R/ThomasGarity/LineDrawing/AugmentedDataset_2/val/n03028079', geom_name='feats2Geom', batchSize=1, dataroot='/content/drive/MyDrive/Classes/Third/PSY2356R/ThomasGarity/LineDrawing/datasets/imagenette2-320/val/n03028079', depthroot='', input_nc=3, output_nc=1, geom_nc=3, every_feat=1, num_classes=55, midas=0, ngf=64, n_blocks=3, size=256, cuda=True, n_cpu=8, which_epoch='latest', aspect_ratio=1.0, mode='test', load_size=256, crop_size=256, max_dataset_size=inf, preprocess='resize_and_crop', no_flip=False, norm='instance', predict_depth=0, save_input=0, reconstruct=0, how_many=409)\n",
            "loaded checkpoints/anime_style/netG_A_latest.pth\n",
            "Generated images 0408 of 0409\n"
          ]
        },
        {
          "output_type": "execute_result",
          "data": {
            "text/plain": [
              "0"
            ]
          },
          "metadata": {},
          "execution_count": 10
        }
      ]
    }
  ]
}
